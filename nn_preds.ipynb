{
 "cells": [
  {
   "cell_type": "code",
   "execution_count": 4,
   "id": "e3319d32",
   "metadata": {},
   "outputs": [],
   "source": [
    "import nbimporter\n",
    "from stream_predictions import *\n",
    "\n",
    "import os\n",
    "import torch"
   ]
  },
  {
   "cell_type": "code",
   "execution_count": 5,
   "id": "6658031a",
   "metadata": {},
   "outputs": [],
   "source": [
    "train = pd.read_csv('csv_files/train.csv')\n",
    "valid = pd.read_csv('csv_files/valid.csv')\n",
    "test = pd.read_csv('csv_files/test.csv')"
   ]
  },
  {
   "cell_type": "code",
   "execution_count": 6,
   "id": "c0f46701",
   "metadata": {},
   "outputs": [],
   "source": [
    "days = ['day_0', 'day_1', 'day_2', 'day_3', 'day_4', 'day_5', 'day_6']\n",
    "\n",
    "pipelines = [\n",
    "    (fill_vals, None, {\n",
    "        'cols': days,\n",
    "    }),  \n",
    "    (add_pct_change, None, None),\n",
    "    (log_transform, \n",
    "        ['day_0', 'day_1', 'day_2', 'day_3', 'day_4', 'day_5', 'day_6', 'days_since_release', 'Next Full Week Streams'], \n",
    "        {'prediction_col': 'Next Full Week Streams'}\n",
    "    )\n",
    "]\n",
    "\n",
    "X_train, Y_train = feature_engine_pipe(train, pipelines, 'log Next Full Week Streams')\n",
    "X_valid, Y_valid = feature_engine_pipe(valid, pipelines, 'log Next Full Week Streams')"
   ]
  },
  {
   "cell_type": "code",
   "execution_count": 7,
   "id": "cd78a906",
   "metadata": {},
   "outputs": [
    {
     "data": {
      "text/html": [
       "<div>\n",
       "<style scoped>\n",
       "    .dataframe tbody tr th:only-of-type {\n",
       "        vertical-align: middle;\n",
       "    }\n",
       "\n",
       "    .dataframe tbody tr th {\n",
       "        vertical-align: top;\n",
       "    }\n",
       "\n",
       "    .dataframe thead th {\n",
       "        text-align: right;\n",
       "    }\n",
       "</style>\n",
       "<table border=\"1\" class=\"dataframe\">\n",
       "  <thead>\n",
       "    <tr style=\"text-align: right;\">\n",
       "      <th></th>\n",
       "      <th>popularity</th>\n",
       "      <th>log days_since_release</th>\n",
       "      <th>log day_0</th>\n",
       "      <th>log day_1</th>\n",
       "      <th>log day_2</th>\n",
       "      <th>log day_3</th>\n",
       "      <th>log day_4</th>\n",
       "      <th>log day_5</th>\n",
       "      <th>log day_6</th>\n",
       "      <th>1_day_%_change</th>\n",
       "      <th>3_day_%_change</th>\n",
       "      <th>6_day_%_change</th>\n",
       "    </tr>\n",
       "  </thead>\n",
       "  <tbody>\n",
       "    <tr>\n",
       "      <th>0</th>\n",
       "      <td>38.0</td>\n",
       "      <td>5.164786</td>\n",
       "      <td>7.033506</td>\n",
       "      <td>7.018402</td>\n",
       "      <td>7.090077</td>\n",
       "      <td>7.098376</td>\n",
       "      <td>6.820016</td>\n",
       "      <td>7.146772</td>\n",
       "      <td>7.263330</td>\n",
       "      <td>1.521934</td>\n",
       "      <td>-6.280992</td>\n",
       "      <td>-20.532586</td>\n",
       "    </tr>\n",
       "    <tr>\n",
       "      <th>1</th>\n",
       "      <td>38.0</td>\n",
       "      <td>7.504392</td>\n",
       "      <td>7.467942</td>\n",
       "      <td>7.483244</td>\n",
       "      <td>7.647786</td>\n",
       "      <td>7.407318</td>\n",
       "      <td>7.319202</td>\n",
       "      <td>7.406711</td>\n",
       "      <td>7.477604</td>\n",
       "      <td>-1.518560</td>\n",
       "      <td>6.250000</td>\n",
       "      <td>-0.961538</td>\n",
       "    </tr>\n",
       "    <tr>\n",
       "      <th>2</th>\n",
       "      <td>44.0</td>\n",
       "      <td>8.613230</td>\n",
       "      <td>8.937875</td>\n",
       "      <td>8.909235</td>\n",
       "      <td>8.873608</td>\n",
       "      <td>8.859221</td>\n",
       "      <td>8.688454</td>\n",
       "      <td>8.842316</td>\n",
       "      <td>8.979669</td>\n",
       "      <td>2.905405</td>\n",
       "      <td>8.182981</td>\n",
       "      <td>-4.093199</td>\n",
       "    </tr>\n",
       "    <tr>\n",
       "      <th>3</th>\n",
       "      <td>1.0</td>\n",
       "      <td>6.563856</td>\n",
       "      <td>12.521438</td>\n",
       "      <td>12.553725</td>\n",
       "      <td>12.605238</td>\n",
       "      <td>12.615679</td>\n",
       "      <td>12.469947</td>\n",
       "      <td>12.774733</td>\n",
       "      <td>13.063537</td>\n",
       "      <td>-3.177137</td>\n",
       "      <td>-8.993676</td>\n",
       "      <td>-41.847338</td>\n",
       "    </tr>\n",
       "    <tr>\n",
       "      <th>4</th>\n",
       "      <td>15.0</td>\n",
       "      <td>7.544332</td>\n",
       "      <td>11.127498</td>\n",
       "      <td>11.142789</td>\n",
       "      <td>11.219131</td>\n",
       "      <td>11.129657</td>\n",
       "      <td>10.912193</td>\n",
       "      <td>11.148909</td>\n",
       "      <td>11.270714</td>\n",
       "      <td>-1.517433</td>\n",
       "      <td>-0.215660</td>\n",
       "      <td>-13.343271</td>\n",
       "    </tr>\n",
       "    <tr>\n",
       "      <th>...</th>\n",
       "      <td>...</td>\n",
       "      <td>...</td>\n",
       "      <td>...</td>\n",
       "      <td>...</td>\n",
       "      <td>...</td>\n",
       "      <td>...</td>\n",
       "      <td>...</td>\n",
       "      <td>...</td>\n",
       "      <td>...</td>\n",
       "      <td>...</td>\n",
       "      <td>...</td>\n",
       "      <td>...</td>\n",
       "    </tr>\n",
       "    <tr>\n",
       "      <th>141324</th>\n",
       "      <td>56.0</td>\n",
       "      <td>9.077951</td>\n",
       "      <td>7.792349</td>\n",
       "      <td>7.768533</td>\n",
       "      <td>7.734996</td>\n",
       "      <td>7.734121</td>\n",
       "      <td>7.619724</td>\n",
       "      <td>7.720905</td>\n",
       "      <td>7.764296</td>\n",
       "      <td>2.410148</td>\n",
       "      <td>5.995624</td>\n",
       "      <td>2.845011</td>\n",
       "    </tr>\n",
       "    <tr>\n",
       "      <th>141325</th>\n",
       "      <td>29.0</td>\n",
       "      <td>7.783641</td>\n",
       "      <td>7.629490</td>\n",
       "      <td>7.643962</td>\n",
       "      <td>7.678789</td>\n",
       "      <td>7.612831</td>\n",
       "      <td>7.397562</td>\n",
       "      <td>7.620215</td>\n",
       "      <td>7.727976</td>\n",
       "      <td>-1.436782</td>\n",
       "      <td>1.679842</td>\n",
       "      <td>-9.379128</td>\n",
       "    </tr>\n",
       "    <tr>\n",
       "      <th>141326</th>\n",
       "      <td>29.0</td>\n",
       "      <td>7.610853</td>\n",
       "      <td>7.542744</td>\n",
       "      <td>7.434848</td>\n",
       "      <td>7.351800</td>\n",
       "      <td>7.382124</td>\n",
       "      <td>7.155396</td>\n",
       "      <td>7.311218</td>\n",
       "      <td>7.394493</td>\n",
       "      <td>11.393152</td>\n",
       "      <td>17.423771</td>\n",
       "      <td>15.980332</td>\n",
       "    </tr>\n",
       "    <tr>\n",
       "      <th>141327</th>\n",
       "      <td>23.0</td>\n",
       "      <td>8.071531</td>\n",
       "      <td>9.346443</td>\n",
       "      <td>9.321166</td>\n",
       "      <td>9.257606</td>\n",
       "      <td>9.257606</td>\n",
       "      <td>9.257606</td>\n",
       "      <td>9.257606</td>\n",
       "      <td>9.257606</td>\n",
       "      <td>2.559971</td>\n",
       "      <td>9.290347</td>\n",
       "      <td>9.290347</td>\n",
       "    </tr>\n",
       "    <tr>\n",
       "      <th>141328</th>\n",
       "      <td>30.0</td>\n",
       "      <td>8.097426</td>\n",
       "      <td>7.382746</td>\n",
       "      <td>7.394493</td>\n",
       "      <td>7.244228</td>\n",
       "      <td>7.160846</td>\n",
       "      <td>7.028201</td>\n",
       "      <td>7.271704</td>\n",
       "      <td>7.393263</td>\n",
       "      <td>-1.167793</td>\n",
       "      <td>24.844720</td>\n",
       "      <td>-1.046154</td>\n",
       "    </tr>\n",
       "  </tbody>\n",
       "</table>\n",
       "<p>141329 rows × 12 columns</p>\n",
       "</div>"
      ],
      "text/plain": [
       "        popularity  log days_since_release  log day_0  log day_1  log day_2  \\\n",
       "0             38.0                5.164786   7.033506   7.018402   7.090077   \n",
       "1             38.0                7.504392   7.467942   7.483244   7.647786   \n",
       "2             44.0                8.613230   8.937875   8.909235   8.873608   \n",
       "3              1.0                6.563856  12.521438  12.553725  12.605238   \n",
       "4             15.0                7.544332  11.127498  11.142789  11.219131   \n",
       "...            ...                     ...        ...        ...        ...   \n",
       "141324        56.0                9.077951   7.792349   7.768533   7.734996   \n",
       "141325        29.0                7.783641   7.629490   7.643962   7.678789   \n",
       "141326        29.0                7.610853   7.542744   7.434848   7.351800   \n",
       "141327        23.0                8.071531   9.346443   9.321166   9.257606   \n",
       "141328        30.0                8.097426   7.382746   7.394493   7.244228   \n",
       "\n",
       "        log day_3  log day_4  log day_5  log day_6  1_day_%_change  \\\n",
       "0        7.098376   6.820016   7.146772   7.263330        1.521934   \n",
       "1        7.407318   7.319202   7.406711   7.477604       -1.518560   \n",
       "2        8.859221   8.688454   8.842316   8.979669        2.905405   \n",
       "3       12.615679  12.469947  12.774733  13.063537       -3.177137   \n",
       "4       11.129657  10.912193  11.148909  11.270714       -1.517433   \n",
       "...           ...        ...        ...        ...             ...   \n",
       "141324   7.734121   7.619724   7.720905   7.764296        2.410148   \n",
       "141325   7.612831   7.397562   7.620215   7.727976       -1.436782   \n",
       "141326   7.382124   7.155396   7.311218   7.394493       11.393152   \n",
       "141327   9.257606   9.257606   9.257606   9.257606        2.559971   \n",
       "141328   7.160846   7.028201   7.271704   7.393263       -1.167793   \n",
       "\n",
       "        3_day_%_change  6_day_%_change  \n",
       "0            -6.280992      -20.532586  \n",
       "1             6.250000       -0.961538  \n",
       "2             8.182981       -4.093199  \n",
       "3            -8.993676      -41.847338  \n",
       "4            -0.215660      -13.343271  \n",
       "...                ...             ...  \n",
       "141324        5.995624        2.845011  \n",
       "141325        1.679842       -9.379128  \n",
       "141326       17.423771       15.980332  \n",
       "141327        9.290347        9.290347  \n",
       "141328       24.844720       -1.046154  \n",
       "\n",
       "[141329 rows x 12 columns]"
      ]
     },
     "execution_count": 7,
     "metadata": {},
     "output_type": "execute_result"
    }
   ],
   "source": [
    "X_train"
   ]
  },
  {
   "cell_type": "code",
   "execution_count": 17,
   "id": "2a00d9d6",
   "metadata": {},
   "outputs": [
    {
     "data": {
      "text/plain": [
       "tensor([1, 2, 3, 4])"
      ]
     },
     "execution_count": 17,
     "metadata": {},
     "output_type": "execute_result"
    }
   ],
   "source": [
    "arr = [1, 2, 3, 4]\n",
    "x_data = torch.tensor(data)\n",
    "x_data"
   ]
  },
  {
   "cell_type": "code",
   "execution_count": 15,
   "id": "72151478",
   "metadata": {},
   "outputs": [
    {
     "data": {
      "text/plain": [
       "tensor([[4, 5],\n",
       "        [6, 7]])"
      ]
     },
     "execution_count": 15,
     "metadata": {},
     "output_type": "execute_result"
    }
   ],
   "source": [
    "np_arr = np.array([[4, 5], [6, 7]])\n",
    "np_data = torch.from_numpy(np_arr)\n",
    "np_data"
   ]
  },
  {
   "cell_type": "code",
   "execution_count": 19,
   "id": "80f4a462",
   "metadata": {},
   "outputs": [
    {
     "data": {
      "text/plain": [
       "tensor([1, 1, 1, 1])"
      ]
     },
     "execution_count": 19,
     "metadata": {},
     "output_type": "execute_result"
    }
   ],
   "source": [
    "x_ones = torch.ones_like(x_data)\n",
    "x_ones"
   ]
  },
  {
   "cell_type": "code",
   "execution_count": 20,
   "id": "377cee0b",
   "metadata": {},
   "outputs": [
    {
     "data": {
      "text/plain": [
       "tensor([[1, 1],\n",
       "        [1, 1]])"
      ]
     },
     "execution_count": 20,
     "metadata": {},
     "output_type": "execute_result"
    }
   ],
   "source": [
    "np_ones = torch.ones_like(np_data)\n",
    "np_ones"
   ]
  },
  {
   "cell_type": "code",
   "execution_count": 41,
   "id": "818b08d1",
   "metadata": {},
   "outputs": [
    {
     "name": "stdout",
     "output_type": "stream",
     "text": [
      "tensor([[0.9124, 0.8098, 0.3419, 0.9915],\n",
      "        [0.5162, 0.9887, 0.0942, 0.7331],\n",
      "        [0.9284, 0.8580, 0.8459, 0.7059]])\n"
     ]
    }
   ],
   "source": [
    "print(torch.rand(3, 4))\n",
    "\n",
    "shape = (3, 4,)\n",
    "\n",
    "rand_tens = torch.rand(shape)"
   ]
  },
  {
   "cell_type": "code",
   "execution_count": 48,
   "id": "7c72c682",
   "metadata": {},
   "outputs": [
    {
     "name": "stdout",
     "output_type": "stream",
     "text": [
      "True\n"
     ]
    },
    {
     "data": {
      "text/plain": [
       "tensor([[100, 100],\n",
       "        [100, 100]])"
      ]
     },
     "execution_count": 48,
     "metadata": {},
     "output_type": "execute_result"
    }
   ],
   "source": [
    "zero = torch.tensor([1])\n",
    "\n",
    "print(torch.is_nonzero(zero))\n",
    "\n",
    "full_tens = torch.full(size=(2, 2,), fill_value=100)\n",
    "full_tens"
   ]
  },
  {
   "cell_type": "code",
   "execution_count": 50,
   "id": "6e90cd9d",
   "metadata": {},
   "outputs": [
    {
     "data": {
      "text/plain": [
       "tensor([[4, 6],\n",
       "        [5, 7]])"
      ]
     },
     "execution_count": 50,
     "metadata": {},
     "output_type": "execute_result"
    }
   ],
   "source": [
    "torch.adjoint(np_data)"
   ]
  },
  {
   "cell_type": "code",
   "execution_count": 61,
   "id": "43b57cd0",
   "metadata": {},
   "outputs": [
    {
     "data": {
      "text/plain": [
       "tensor([[ 2.,  3.,  4.],\n",
       "        [ 1.,  1.,  1.],\n",
       "        [ 8.,  9., 10.],\n",
       "        [ 1.,  1.,  1.],\n",
       "        [ 5.,  6.,  7.]])"
      ]
     },
     "execution_count": 61,
     "metadata": {},
     "output_type": "execute_result"
    }
   ],
   "source": [
    "x = torch.ones(5, 3)\n",
    "t = torch.tensor([[1, 2, 3], [4, 5, 6], [7, 8, 9]], dtype=torch.float)\n",
    "index = torch.tensor([0, 4, 2])\n",
    "x.index_add_(0, index, t)"
   ]
  },
  {
   "cell_type": "code",
   "execution_count": 69,
   "id": "e1343144",
   "metadata": {},
   "outputs": [
    {
     "data": {
      "text/plain": [
       "False"
      ]
     },
     "execution_count": 69,
     "metadata": {},
     "output_type": "execute_result"
    }
   ],
   "source": [
    "torch.cuda.is_available()"
   ]
  },
  {
   "cell_type": "code",
   "execution_count": null,
   "id": "e2fd3cee",
   "metadata": {},
   "outputs": [],
   "source": []
  }
 ],
 "metadata": {
  "kernelspec": {
   "display_name": "Python 3 (ipykernel)",
   "language": "python",
   "name": "python3"
  },
  "language_info": {
   "codemirror_mode": {
    "name": "ipython",
    "version": 3
   },
   "file_extension": ".py",
   "mimetype": "text/x-python",
   "name": "python",
   "nbconvert_exporter": "python",
   "pygments_lexer": "ipython3",
   "version": "3.9.13"
  }
 },
 "nbformat": 4,
 "nbformat_minor": 5
}
